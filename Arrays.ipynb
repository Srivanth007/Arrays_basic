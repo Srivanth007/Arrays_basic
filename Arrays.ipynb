{
  "nbformat": 4,
  "nbformat_minor": 0,
  "metadata": {
    "colab": {
      "provenance": [],
      "authorship_tag": "ABX9TyOZxSQrRgEbPdEpER7QQ06K",
      "include_colab_link": true
    },
    "kernelspec": {
      "name": "python3",
      "display_name": "Python 3"
    },
    "language_info": {
      "name": "python"
    }
  },
  "cells": [
    {
      "cell_type": "markdown",
      "metadata": {
        "id": "view-in-github",
        "colab_type": "text"
      },
      "source": [
        "<a href=\"https://colab.research.google.com/github/Srivanth007/Arrays_basic/blob/main/Arrays.ipynb\" target=\"_parent\"><img src=\"https://colab.research.google.com/assets/colab-badge.svg\" alt=\"Open In Colab\"/></a>"
      ]
    },
    {
      "cell_type": "code",
      "execution_count": 4,
      "metadata": {
        "colab": {
          "base_uri": "https://localhost:8080/"
        },
        "id": "euzTKbNyD2HE",
        "outputId": "37eb8da8-974d-42bc-c7bf-8a31240b2020"
      },
      "outputs": [
        {
          "output_type": "stream",
          "name": "stdout",
          "text": [
            "12\n"
          ]
        }
      ],
      "source": [
        "# Find Largest element in an array using Python\n",
        "\n",
        "a = [10, 5, 6, 8, 12]\n",
        "maxi = 0\n",
        "for i in range(len(a)):\n",
        "  if a[i]>maxi:\n",
        "    maxi = a[i]\n",
        "print(maxi)"
      ]
    },
    {
      "cell_type": "code",
      "source": [],
      "metadata": {
        "id": "vtXlQzwZE8tk"
      },
      "execution_count": null,
      "outputs": []
    }
  ]
}