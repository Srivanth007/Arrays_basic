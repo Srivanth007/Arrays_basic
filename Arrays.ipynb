{
  "nbformat": 4,
  "nbformat_minor": 0,
  "metadata": {
    "colab": {
      "provenance": [],
      "authorship_tag": "ABX9TyNEqVYC9RZMyUqDZg1ZgA+S",
      "include_colab_link": true
    },
    "kernelspec": {
      "name": "python3",
      "display_name": "Python 3"
    },
    "language_info": {
      "name": "python"
    }
  },
  "cells": [
    {
      "cell_type": "markdown",
      "metadata": {
        "id": "view-in-github",
        "colab_type": "text"
      },
      "source": [
        "<a href=\"https://colab.research.google.com/github/Srivanth007/Arrays_basic/blob/main/Arrays.ipynb\" target=\"_parent\"><img src=\"https://colab.research.google.com/assets/colab-badge.svg\" alt=\"Open In Colab\"/></a>"
      ]
    },
    {
      "cell_type": "code",
      "execution_count": 4,
      "metadata": {
        "colab": {
          "base_uri": "https://localhost:8080/"
        },
        "id": "euzTKbNyD2HE",
        "outputId": "37eb8da8-974d-42bc-c7bf-8a31240b2020"
      },
      "outputs": [
        {
          "output_type": "stream",
          "name": "stdout",
          "text": [
            "12\n"
          ]
        }
      ],
      "source": [
        "# Find Largest element in an array using Python\n",
        "\n",
        "a = [10, 5, 6, 8, 12]\n",
        "maxi = a[0]\n",
        "for i in range(len(a)):\n",
        "  if a[i]>maxi:\n",
        "    maxi = a[i]\n",
        "print(maxi)"
      ]
    },
    {
      "cell_type": "code",
      "source": [
        "# Find Smallest element in an array using Python\n",
        "\n",
        "a = [10, 5, 6, 8, 12]\n",
        "mini = a[0]\n",
        "for i in range(len(a)):\n",
        "  if a[i]<mini:\n",
        "    mini = a[i]\n",
        "print(mini)"
      ],
      "metadata": {
        "colab": {
          "base_uri": "https://localhost:8080/"
        },
        "id": "vtXlQzwZE8tk",
        "outputId": "9e4eee0d-52ae-462a-cd37-265a71787fa0"
      },
      "execution_count": 11,
      "outputs": [
        {
          "output_type": "stream",
          "name": "stdout",
          "text": [
            "5\n"
          ]
        }
      ]
    },
    {
      "cell_type": "code",
      "source": [
        "# Find the Smallest and largest element in an array using Python\n",
        "\n",
        "a = [10, 5, 6, 8, 12]\n",
        "maxi = a[0]\n",
        "mini = a[0]\n",
        "\n",
        "for i in range(len(a)):\n",
        "  if a[i]<mini :\n",
        "    mini = a[i]\n",
        "if a[i]>maxi:\n",
        "  maxi = a[i]\n",
        "print(maxi)\n",
        "print(mini)\n",
        "    \n",
        "\n",
        "  "
      ],
      "metadata": {
        "colab": {
          "base_uri": "https://localhost:8080/"
        },
        "id": "rNrDm7J1HdhU",
        "outputId": "a0885fd3-afb6-4d29-b0ee-95479b2d4699"
      },
      "execution_count": 16,
      "outputs": [
        {
          "output_type": "stream",
          "name": "stdout",
          "text": [
            "12\n",
            "5\n"
          ]
        }
      ]
    },
    {
      "cell_type": "code",
      "source": [
        "# Find Second Smallest Element in an Array\n",
        "\n",
        "a = [10, 5, 6, 8, 12]\n",
        "# a.sort()\n",
        "# print(a[1])\n",
        "\n",
        "mini = a[0]\n",
        "for i in range(len(a)):\n",
        "  if a[i]<mini:\n",
        "    mini = a[i] + 1\n",
        "\n",
        "print(mini)"
      ],
      "metadata": {
        "colab": {
          "base_uri": "https://localhost:8080/"
        },
        "id": "e7EwduvJJpeY",
        "outputId": "7f1420c4-e646-46b7-a371-993f9ac11342"
      },
      "execution_count": 21,
      "outputs": [
        {
          "output_type": "stream",
          "name": "stdout",
          "text": [
            "6\n"
          ]
        }
      ]
    },
    {
      "cell_type": "code",
      "source": [
        "# Calculate the sum of elements in an array\n",
        "\n",
        "a = [10, 5, 6, 8, 12]\n",
        "sum = 0\n",
        "\n",
        "for i in range(len(a)):\n",
        "  sum = sum +a[i]\n",
        "\n",
        "print(sum)"
      ],
      "metadata": {
        "colab": {
          "base_uri": "https://localhost:8080/"
        },
        "id": "f7XLRpWdKu0l",
        "outputId": "b950a1e2-ab3f-4ecc-bf6c-446d751222af"
      },
      "execution_count": 22,
      "outputs": [
        {
          "output_type": "stream",
          "name": "stdout",
          "text": [
            "41\n"
          ]
        }
      ]
    },
    {
      "cell_type": "code",
      "source": [
        "# Reverse an Array  \n",
        "\n",
        "a = [10, 5, 6, 8, 12]\n",
        "print(a[::-1])\n",
        "\n",
        "for i in range(len(a)-1,-1,-1):\n",
        "  print(a[i], end=\" \")\n",
        "\n"
      ],
      "metadata": {
        "colab": {
          "base_uri": "https://localhost:8080/"
        },
        "id": "fJ7gsXMlNdUM",
        "outputId": "5905f1ca-3d8d-4981-ea78-b00a23f64589"
      },
      "execution_count": 38,
      "outputs": [
        {
          "output_type": "stream",
          "name": "stdout",
          "text": [
            "[12, 8, 6, 5, 10]\n",
            "12 8 6 5 10 "
          ]
        }
      ]
    }
  ]
}